{
 "cells": [
  {
   "cell_type": "markdown",
   "metadata": {},
   "source": [
    "# SolveME: getting started"
   ]
  },
  {
   "cell_type": "markdown",
   "metadata": {},
   "source": [
    "## Load the example model from solveme\n",
    "And make growth rate reaction bound by the variable, mu"
   ]
  },
  {
   "cell_type": "code",
   "execution_count": 5,
   "metadata": {},
   "outputs": [
    {
     "ename": "Exception",
     "evalue": "Must pass valid ME-model json file",
     "output_type": "error",
     "traceback": [
      "\u001b[0;31m---------------------------------------------------------------------------\u001b[0m",
      "\u001b[0;31mValidationError\u001b[0m                           Traceback (most recent call last)",
      "File \u001b[0;32m/opt/developing/cobrame.glucksfall/cobrame/io/json.py:105\u001b[0m, in \u001b[0;36mload_json_me_model\u001b[0;34m(file_name)\u001b[0m\n\u001b[1;32m    104\u001b[0m \u001b[38;5;28;01mtry\u001b[39;00m:\n\u001b[0;32m--> 105\u001b[0m     \u001b[43mvalidate\u001b[49m\u001b[43m(\u001b[49m\u001b[43mmodel_dict\u001b[49m\u001b[43m,\u001b[49m\u001b[43m \u001b[49m\u001b[43mget_schema\u001b[49m\u001b[43m(\u001b[49m\u001b[43m)\u001b[49m\u001b[43m)\u001b[49m\n\u001b[1;32m    106\u001b[0m \u001b[38;5;28;01mexcept\u001b[39;00m ValidationError:\n",
      "File \u001b[0;32m/opt/python3-venv/cobrame-dev/lib/python3.8/site-packages/jsonschema/validators.py:1022\u001b[0m, in \u001b[0;36mvalidate\u001b[0;34m(instance, schema, cls, *args, **kwargs)\u001b[0m\n\u001b[1;32m   1021\u001b[0m \u001b[38;5;28;01mif\u001b[39;00m error \u001b[38;5;129;01mis\u001b[39;00m \u001b[38;5;129;01mnot\u001b[39;00m \u001b[38;5;28;01mNone\u001b[39;00m:\n\u001b[0;32m-> 1022\u001b[0m     \u001b[38;5;28;01mraise\u001b[39;00m error\n",
      "\u001b[0;31mValidationError\u001b[0m: '' does not match '[a-z]{1,2}'\n\nFailed validating 'pattern' in schema['properties']['metabolites']['items']['properties']['compartment']:\n    {'pattern': '[a-z]{1,2}', 'type': 'string'}\n\nOn instance['metabolites'][0]['compartment']:\n    ''",
      "\nDuring handling of the above exception, another exception occurred:\n",
      "\u001b[0;31mException\u001b[0m                                 Traceback (most recent call last)",
      "Input \u001b[0;32mIn [5]\u001b[0m, in \u001b[0;36m<cell line: 4>\u001b[0;34m()\u001b[0m\n\u001b[1;32m      1\u001b[0m \u001b[38;5;28;01mfrom\u001b[39;00m \u001b[38;5;21;01mcobrame\u001b[39;00m\u001b[38;5;21;01m.\u001b[39;00m\u001b[38;5;21;01mio\u001b[39;00m\u001b[38;5;21;01m.\u001b[39;00m\u001b[38;5;21;01mjson\u001b[39;00m \u001b[38;5;28;01mimport\u001b[39;00m load_json_me_model\n\u001b[1;32m      2\u001b[0m \u001b[38;5;28;01mfrom\u001b[39;00m \u001b[38;5;21;01mcobrame\u001b[39;00m \u001b[38;5;28;01mimport\u001b[39;00m mu\n\u001b[0;32m----> 4\u001b[0m me \u001b[38;5;241m=\u001b[39m \u001b[43mload_json_me_model\u001b[49m\u001b[43m(\u001b[49m\u001b[38;5;124;43m'\u001b[39;49m\u001b[38;5;124;43mme_08222015.json\u001b[39;49m\u001b[38;5;124;43m'\u001b[39;49m\u001b[43m)\u001b[49m\n\u001b[1;32m      5\u001b[0m me\u001b[38;5;241m.\u001b[39mreactions\u001b[38;5;241m.\u001b[39mbiomass_dilution\u001b[38;5;241m.\u001b[39mlower_bound \u001b[38;5;241m=\u001b[39m mu\n\u001b[1;32m      6\u001b[0m me\u001b[38;5;241m.\u001b[39mreactions\u001b[38;5;241m.\u001b[39mbiomass_dilution\u001b[38;5;241m.\u001b[39mupper_bound \u001b[38;5;241m=\u001b[39m mu\n",
      "File \u001b[0;32m/opt/developing/cobrame.glucksfall/cobrame/io/json.py:107\u001b[0m, in \u001b[0;36mload_json_me_model\u001b[0;34m(file_name)\u001b[0m\n\u001b[1;32m    105\u001b[0m     validate(model_dict, get_schema())\n\u001b[1;32m    106\u001b[0m \u001b[38;5;28;01mexcept\u001b[39;00m ValidationError:\n\u001b[0;32m--> 107\u001b[0m     \u001b[38;5;28;01mraise\u001b[39;00m \u001b[38;5;167;01mException\u001b[39;00m(\u001b[38;5;124m'\u001b[39m\u001b[38;5;124mMust pass valid ME-model json file\u001b[39m\u001b[38;5;124m'\u001b[39m)\n\u001b[1;32m    109\u001b[0m \u001b[38;5;28;01mreturn\u001b[39;00m me_model_from_dict(model_dict)\n",
      "\u001b[0;31mException\u001b[0m: Must pass valid ME-model json file"
     ]
    }
   ],
   "source": [
    "from cobrame.io.json import load_json_me_model\n",
    "from cobrame import mu\n",
    "\n",
    "me = load_json_me_model('me_08222015.json')\n",
    "me.reactions.biomass_dilution.lower_bound = mu\n",
    "me.reactions.biomass_dilution.upper_bound = mu\n",
    "print(len(me.metabolites), len(me.reactions))\n",
    "print(me.reactions.biomass_dilution.lower_bound, me.reactions.biomass_dilution.upper_bound)"
   ]
  },
  {
   "cell_type": "code",
   "execution_count": 2,
   "metadata": {},
   "outputs": [
    {
     "name": "stdout",
     "output_type": "stream",
     "text": [
      "iter\tmuopt    \ta     \tb     \tmu1       \tstat\n",
      "Getting MINOS parameters from ME_NLP...\n",
      "1 0.0 0.0 1.0 1.0 1\n",
      "Getting MINOS parameters from ME_NLP...\n",
      "2 0.5 0.5 1.0 0.5 optimal\n",
      "Getting MINOS parameters from ME_NLP...\n",
      "3 0.75 0.75 1.0 0.75 optimal\n",
      "Getting MINOS parameters from ME_NLP...\n",
      "4 0.75 0.75 0.875 0.875 1\n",
      "Getting MINOS parameters from ME_NLP...\n",
      "5 0.8125 0.8125 0.875 0.8125 optimal\n",
      "Getting MINOS parameters from ME_NLP...\n",
      "6 0.84375 0.84375 0.875 0.84375 optimal\n",
      "Getting MINOS parameters from ME_NLP...\n",
      "7 0.84375 0.84375 0.859375 0.859375 1\n",
      "Getting MINOS parameters from ME_NLP...\n",
      "8 0.8515625 0.8515625 0.859375 0.8515625 optimal\n"
     ]
    },
    {
     "name": "stderr",
     "output_type": "stream",
     "text": [
      "qminospy/me2.py:934 \u001b[1;31mUserWarning\u001b[0m: lb for biomass_dilution is mu-dependent. Setting to 0.0\n",
      "qminospy/me2.py:937 \u001b[1;31mUserWarning\u001b[0m: ub for biomass_dilution is mu-dependent. Setting to 1000.0\n"
     ]
    },
    {
     "name": "stdout",
     "output_type": "stream",
     "text": [
      "Using provided basis of length 30141\n",
      "Getting MINOS parameters from ME_NLP...\n",
      "Time elapsed:  6.34530997276 seconds\n",
      "Status:  0\n",
      "CPU times: user 1min 35s, sys: 149 ms, total: 1min 35s\n",
      "Wall time: 1min 35s\n"
     ]
    }
   ],
   "source": [
    "from qminospy.me2 import ME_NLP\n",
    "\n",
    "solver = ME_NLP(me)\n",
    "%time x,stat,hs = solver.solvenlp()"
   ]
  },
  {
   "cell_type": "code",
   "execution_count": 3,
   "metadata": {},
   "outputs": [
    {
     "name": "stdout",
     "output_type": "stream",
     "text": [
      "('Max growth rate:', 0.8556638891958754, '1/h')\n"
     ]
    }
   ],
   "source": [
    "print('Max growth rate:', me.reactions.biomass_dilution.x, '1/h')"
   ]
  }
 ],
 "metadata": {
  "kernelspec": {
   "display_name": "VENV: COBRAME-DEV",
   "language": "python",
   "name": "python3-venv-cobrame-dev"
  },
  "language_info": {
   "codemirror_mode": {
    "name": "ipython",
    "version": 3
   },
   "file_extension": ".py",
   "mimetype": "text/x-python",
   "name": "python",
   "nbconvert_exporter": "python",
   "pygments_lexer": "ipython3",
   "version": "3.8.10"
  }
 },
 "nbformat": 4,
 "nbformat_minor": 1
}
